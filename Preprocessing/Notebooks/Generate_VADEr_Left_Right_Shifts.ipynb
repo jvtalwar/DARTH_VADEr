{
 "cells": [
  {
   "cell_type": "markdown",
   "metadata": {},
   "source": [
    "**@author: James V. Talwar**<br>\n",
    "\n",
    "# Generate VADEr Left and Right Shifted Patches:\n",
    "\n",
    "**About:** This notebook generates SNP left and right feature patches as a f(x) of a defined radius (equivalent to patch size divided by 2) for enabling Shift Patch Tokenization (SPT) within VADEr. This notebook takes in employs both the genomic patch mappings and the location patch mappings generated in the `Generate_VADEr_Patches.ipynb`. *Shall we begin...* \n",
    "\n",
    "\n"
   ]
  },
  {
   "cell_type": "code",
   "execution_count": 1,
   "metadata": {},
   "outputs": [],
   "source": [
    "import pandas as pd\n",
    "import os\n",
    "from collections import defaultdict\n",
    "import numpy as np\n",
    "import joblib\n",
    "import tqdm\n",
    "import logging\n",
    "logging.getLogger().setLevel(logging.INFO)"
   ]
  },
  {
   "cell_type": "code",
   "execution_count": 2,
   "metadata": {},
   "outputs": [],
   "source": [
    "logger = logging.getLogger()\n",
    "console = logging.StreamHandler()\n",
    "logger.addHandler(console)"
   ]
  },
  {
   "cell_type": "markdown",
   "metadata": {},
   "source": [
    "Define condition path (`write_path` defined in `Generate_VADEr_Patches.ipynb`):"
   ]
  },
  {
   "cell_type": "code",
   "execution_count": 3,
   "metadata": {},
   "outputs": [],
   "source": [
    "conditionPath = \"../../Data/Feature_Patches\""
   ]
  },
  {
   "cell_type": "markdown",
   "metadata": {},
   "source": [
    "Define base paths for snp and location mappings:"
   ]
  },
  {
   "cell_type": "code",
   "execution_count": 4,
   "metadata": {},
   "outputs": [],
   "source": [
    "snpSetSizes = [\"250\", \"125\", \"500\"] #KB of defined preprocessed patch sizes\n",
    "pVals = [\"5e-04\", \"5e-05\", \"5e-06\", \"5e-07\", \"5e-08\"]\n",
    "\n",
    "baseLocationMappingPath = os.path.join(conditionPath, \"Patch_To_Chrom_Mapping/{}kb\")\n",
    "baseSNPMappingPath = os.path.join(conditionPath, \"Patches_To_Features/{}kb\")"
   ]
  },
  {
   "cell_type": "markdown",
   "metadata": {},
   "source": [
    "Load in chromosome lengths for validation of patch correctness (SNPs at end of a patch):"
   ]
  },
  {
   "cell_type": "code",
   "execution_count": 6,
   "metadata": {},
   "outputs": [
    {
     "data": {
      "text/plain": [
       "{'chr1': 249250621,\n",
       " 'chr2': 243199373,\n",
       " 'chr3': 198022430,\n",
       " 'chr4': 191154276,\n",
       " 'chr5': 180915260,\n",
       " 'chr6': 171115067,\n",
       " 'chr7': 159138663,\n",
       " 'chr8': 146364022,\n",
       " 'chr9': 141213431,\n",
       " 'chr10': 135534747,\n",
       " 'chr11': 135006516,\n",
       " 'chr12': 133851895,\n",
       " 'chr13': 115169878,\n",
       " 'chr14': 107349540,\n",
       " 'chr15': 102531392,\n",
       " 'chr16': 90354753,\n",
       " 'chr17': 81195210,\n",
       " 'chr18': 78077248,\n",
       " 'chr19': 59128983,\n",
       " 'chr20': 63025520,\n",
       " 'chr21': 48129895,\n",
       " 'chr22': 51304566,\n",
       " 'chrX': 155270560,\n",
       " 'chrY': 59373566}"
      ]
     },
     "execution_count": 6,
     "metadata": {},
     "output_type": "execute_result"
    }
   ],
   "source": [
    "chromosome_length_file = \"../../Data/Reference_Genome_Build_Sizes/hg19.chrom.sizes\" #<-- Update if not using hg19/grch37\n",
    "chromosomeLengths = pd.read_csv(chromosome_length_file, sep = \"\\t\", header = None)\n",
    "chromosomeLengths.columns = [\"CHR\", \"LENGTH\"]\n",
    "iteratables = [\"chr\" + str(i) for i in range(1,23)] + [\"chrX\", \"chrY\"]\n",
    "chromLengthMap = {k:v for k,v in dict(zip(chromosomeLengths.CHR, chromosomeLengths.LENGTH)).items() if k in iteratables}\n",
    "chromLengthMap"
   ]
  },
  {
   "cell_type": "markdown",
   "metadata": {},
   "source": [
    "Define functions to generate left and right shifted patches:"
   ]
  },
  {
   "cell_type": "code",
   "execution_count": 7,
   "metadata": {},
   "outputs": [],
   "source": [
    "def ExtractOverlaps(df):\n",
    "    groupedDF = df.groupby(\"CHR\")\n",
    "    leftOverlaps = defaultdict(str) #mapping of a patch to the patch which if left shifted by radius would overlap (i.e. -1) --> need to get the second half of left patches\n",
    "    rightOverlaps = defaultdict(str) #mapping of a patch to the patch which if right shifted by radius would overlap (i.e. + 1) --> need to get the first half of right patches \n",
    "    for chrom, chromDF in groupedDF:\n",
    "        for i, row in chromDF.iterrows():\n",
    "            omission = chromDF[chromDF.index != i] #omit current clump from search\n",
    "            #check where left and right indices match (if any)\n",
    "            leftMatch = omission[omission.Left_Overlap == row.ChromosomePatch]\n",
    "            #rightMatch = omission[omission.Right_Overlap == row.ChromosomePatch] --> Equality condition - if a patch is a left then the converse is a right\n",
    "            assert leftMatch.shape[0] <= 1, \"Invalid mapping - only one patch pair can exist for an overlap\"\n",
    "            if leftMatch.shape[0] == 1:\n",
    "                rightOverlaps[i] = leftMatch.index[0]\n",
    "                leftOverlaps[leftMatch.index[0]] = i\n",
    "            \n",
    "    return leftOverlaps, rightOverlaps"
   ]
  },
  {
   "cell_type": "code",
   "execution_count": 8,
   "metadata": {},
   "outputs": [],
   "source": [
    "'''\n",
    "Inputs: 1) snps: list of snps \n",
    "        2) midpoint: int corresponding to the patch's midpoint\n",
    "        3) first half: boolean corresponding whether want all SNPs in the first half of the patch (True), or second half of the patch\n",
    "        4) radius: Integer corresponding to the patch radius \n",
    "'''\n",
    "def ExtractShiftedSNPs(snps, midpoint, first_half, radius, chrom_end):\n",
    "    shiftedSNPs = list()\n",
    "    for snp in snps:\n",
    "        assert \"rs\" not in snp, \"SNP index deviates from expected CHR:POS:REF:ALT format\"\n",
    "        chrom, pos, ref, alt = snp.split(\":\")\n",
    "        difference = midpoint - int(pos)\n",
    "        if np.abs(difference) > radius:\n",
    "            if np.abs(chrom_end - int(pos)) > radius: #check if is an end of SNP patch\n",
    "                raise ValueError(f\"Issue with patch size! {chrom} {pos} {difference}\")  #\"  {name}\"\n",
    "        \n",
    "        if first_half:\n",
    "            if (difference > 0):\n",
    "                shiftedSNPs.append(snp)\n",
    "                \n",
    "        else:\n",
    "            if difference <= 0:\n",
    "                shiftedSNPs.append(snp)\n",
    "\n",
    "    return shiftedSNPs\n",
    "\n",
    "def GenerateShiftedPatches(snp_mapping, radius, patch_mapping, left_overlaps, right_overlaps, chrom_ends):\n",
    "    leftShiftedPatches = defaultdict(list) #Defines the full left shifted patch - including SNPs from current patch\n",
    "    rightShiftedPatches = defaultdict(list)\n",
    "    \n",
    "    for k,v in left_overlaps.items():\n",
    "        currentChromosome = str(patch_mapping.loc[k, \"CHR\"])\n",
    "        if currentChromosome == \"23\":\n",
    "            currentChromosome = \"X\"\n",
    "            \n",
    "        chrom_end = chrom_ends[\"chr\" + currentChromosome]\n",
    "        currentPatchMidpoint = radius + 2*radius*patch_mapping.loc[k, \"ChromosomePatch\"]\n",
    "        leftPatchMidpoint = radius + 2*radius*patch_mapping.loc[v, \"ChromosomePatch\"]\n",
    "        \n",
    "        currentPatchSNPs = snp_mapping[k]\n",
    "        leftPatchSNPs = snp_mapping[v]\n",
    "        \n",
    "        relevantCurrentPatchSNPs = ExtractShiftedSNPs(snps = currentPatchSNPs,\n",
    "                                                      midpoint = currentPatchMidpoint,\n",
    "                                                      first_half = True, \n",
    "                                                      radius = radius, \n",
    "                                                      chrom_end = chrom_end)\n",
    "        relevantLeftPatchSNPs = ExtractShiftedSNPs(snps = leftPatchSNPs,\n",
    "                                                   midpoint = leftPatchMidpoint,\n",
    "                                                   first_half = False, \n",
    "                                                   radius = radius, \n",
    "                                                   chrom_end = chrom_end)\n",
    "        \n",
    "        left_shifted_patch =  relevantLeftPatchSNPs + relevantCurrentPatchSNPs\n",
    "        #Don't generate shifted patches if the patch is empty (i.e., both chromosome SNP patches fall outside of the desired midpoint) or if all the SNPs in shifted patch come from current patch\n",
    "        if (len(left_shifted_patch) == 0) or (len(set(left_shifted_patch).difference(set(currentPatchSNPs))) == 0):\n",
    "            continue \n",
    "        \n",
    "        leftShiftedPatches[k] = left_shifted_patch\n",
    "    \n",
    "    for k,v in right_overlaps.items():\n",
    "        currentChromosome = str(patch_mapping.loc[k, \"CHR\"])\n",
    "        if currentChromosome == \"23\":\n",
    "            currentChromosome = \"X\"\n",
    "        \n",
    "        chrom_end = chrom_ends[\"chr\" + currentChromosome]\n",
    "        \n",
    "        \n",
    "        currentPatchMidpoint = radius + 2*radius*patch_mapping.loc[k, \"ChromosomePatch\"]\n",
    "        rightPatchMidpoint = radius + 2*radius*patch_mapping.loc[v, \"ChromosomePatch\"]\n",
    "        \n",
    "        currentPatchSNPs = snp_mapping[k]\n",
    "        rightPatchSNPs = snp_mapping[v]\n",
    "        \n",
    "        relevantCurrentPatchSNPs = ExtractShiftedSNPs(snps = currentPatchSNPs,\n",
    "                                                      midpoint = currentPatchMidpoint,\n",
    "                                                      first_half = False, \n",
    "                                                      radius = radius, \n",
    "                                                      chrom_end = chrom_end)\n",
    "        relevantRightPatchSNPs = ExtractShiftedSNPs(snps = rightPatchSNPs,\n",
    "                                                    midpoint = rightPatchMidpoint,\n",
    "                                                    first_half = True, \n",
    "                                                    radius = radius, \n",
    "                                                    chrom_end = chrom_end)\n",
    "        \n",
    "        right_shifted_patch =  relevantCurrentPatchSNPs + relevantRightPatchSNPs\n",
    "        \n",
    "        if (len(right_shifted_patch) == 0) or (len(set(right_shifted_patch).difference(set(currentPatchSNPs))) == 0):\n",
    "            continue \n",
    "        \n",
    "        rightShiftedPatches[k] = right_shifted_patch\n",
    "            \n",
    "    \n",
    "    return leftShiftedPatches, rightShiftedPatches"
   ]
  },
  {
   "cell_type": "markdown",
   "metadata": {},
   "source": [
    "Generate left and right patches for each SNP set and save in patch directory:"
   ]
  },
  {
   "cell_type": "code",
   "execution_count": 9,
   "metadata": {},
   "outputs": [
    {
     "name": "stderr",
     "output_type": "stream",
     "text": [
      "100%|██████████| 5/5 [00:03<00:00,  1.41it/s]\n",
      "100%|██████████| 5/5 [00:04<00:00,  1.15it/s]\n",
      "100%|██████████| 5/5 [00:02<00:00,  1.74it/s]\n"
     ]
    }
   ],
   "source": [
    "for windowSize in snpSetSizes:\n",
    "    radius  = int(windowSize) * 1e3/2\n",
    "    for p_val in tqdm.tqdm(pVals):\n",
    "        #Load mapping of patch to SNPs\n",
    "        snpMapping = joblib.load(os.path.join(baseSNPMappingPath, \"{}_{}kb_DistanceClumps.joblib\").format(p_val, windowSize))\n",
    "        \n",
    "        #Load positional patch mapping\n",
    "        patchMapping = pd.read_csv(os.path.join(baseLocationMappingPath, \"{}_{}kb_PositionalMaps.tsv\").format(p_val, windowSize), sep = \"\\t\", index_col = 0)\n",
    "        patchMapping[\"Left_Overlap\"] = patchMapping[\"ChromosomePatch\"] - 1\n",
    "        patchMapping[\"Right_Overlap\"] = patchMapping[\"ChromosomePatch\"] + 1\n",
    "        \n",
    "        #For given p val-window size set - map the overlapping left and right patches (i.e. consecutive patches) \n",
    "        left, right = ExtractOverlaps(patchMapping)\n",
    "        \n",
    "        #generate the shifted patches: \n",
    "        l,r = GenerateShiftedPatches(snp_mapping = snpMapping, \n",
    "                                     radius = radius, \n",
    "                                     patch_mapping = patchMapping,\n",
    "                                     left_overlaps = left,\n",
    "                                     right_overlaps = right, \n",
    "                                     chrom_ends = chromLengthMap)\n",
    "        \n",
    "        #save shifted patches:\n",
    "        joblib.dump(l, os.path.join(baseSNPMappingPath, \"{}_{}kb_Left_Shifted_Patches.joblib\").format(p_val, windowSize))\n",
    "        joblib.dump(r, os.path.join(baseSNPMappingPath, \"{}_{}kb_Right_Shifted_Patches.joblib\").format(p_val, windowSize))"
   ]
  }
 ],
 "metadata": {
  "kernelspec": {
   "display_name": "Intersect2.0",
   "language": "python",
   "name": "intersect2.0"
  },
  "language_info": {
   "codemirror_mode": {
    "name": "ipython",
    "version": 3
   },
   "file_extension": ".py",
   "mimetype": "text/x-python",
   "name": "python",
   "nbconvert_exporter": "python",
   "pygments_lexer": "ipython3",
   "version": "3.9.18"
  }
 },
 "nbformat": 4,
 "nbformat_minor": 4
}
