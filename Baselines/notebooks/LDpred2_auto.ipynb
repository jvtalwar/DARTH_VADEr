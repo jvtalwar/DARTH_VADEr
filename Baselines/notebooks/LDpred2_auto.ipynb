{
 "cells": [
  {
   "cell_type": "markdown",
   "metadata": {},
   "source": [
    "**@author: James V. Talwar**\n",
    "\n",
    "# LDpred2-auto\n",
    "\n",
    "**About:** This notebook generates LDpred2-auto polygenic risk scores (PRSs) for given reference panels, summary statistics, and datasets (on which to compute PRSs) of interest, which here is for prostate cancer risk prediction in the UKBB and ELLIPSE.\n",
    " - For more details on the specifics of LDpred2 and its implementation both this [ldpred2 specific tutorial](https://privefl.github.io/bigsnpr/articles/LDpred2.html) and this [general PRS tutorial](https://choishingwan.github.io/PRS-Tutorial/ldpred/) may prove helpful."
   ]
  },
  {
   "cell_type": "code",
   "execution_count": 1,
   "metadata": {},
   "outputs": [
    {
     "name": "stderr",
     "output_type": "stream",
     "text": [
      "Loading required package: bigstatsr\n",
      "\n",
      "Type 'citation(\"pROC\")' for a citation.\n",
      "\n",
      "\n",
      "Attaching package: ‘pROC’\n",
      "\n",
      "\n",
      "The following objects are masked from ‘package:stats’:\n",
      "\n",
      "    cov, smooth, var\n",
      "\n",
      "\n"
     ]
    }
   ],
   "source": [
    "# Load packages bigsnpr and bigstatsr\n",
    "library(bigsnpr)\n",
    "library(pROC)\n",
    "options(bigstatsr.check.parallel.blas = FALSE)\n",
    "options(default.nproc.blas = NULL)"
   ]
  },
  {
   "cell_type": "markdown",
   "metadata": {},
   "source": [
    "Load in summary statistics:"
   ]
  },
  {
   "cell_type": "code",
   "execution_count": 2,
   "metadata": {},
   "outputs": [],
   "source": [
    "sumstats <- bigreadr::fread2(\"../../Data/grievous_harmonized/PC/Conti_SSF/GRIEVOUS_Formatted/MergedSSF.ssf\") "
   ]
  },
  {
   "cell_type": "code",
   "execution_count": 4,
   "metadata": {},
   "outputs": [],
   "source": [
    "sumstats <- setNames(sumstats, c(\"index\", \"chr\", \"pos\", \"rsid\", \"a0\", \"a1\", \"p\", \"beta\", \"beta_se\", \"N\")) # <-- need to customize SSF ordering/naming "
   ]
  },
  {
   "cell_type": "markdown",
   "metadata": {},
   "source": [
    "Generate correlation matrix from full ELLIPSE genotype dataset (as these make up the bulk of the original data in the above defined summary statistics):"
   ]
  },
  {
   "cell_type": "code",
   "execution_count": 8,
   "metadata": {},
   "outputs": [],
   "source": [
    "fullPath <- \"../../Data/LDpred2/PC/ELLIPSE_Reference_Panel/ELLIPSE_All/chr\""
   ]
  },
  {
   "cell_type": "code",
   "execution_count": 10,
   "metadata": {},
   "outputs": [
    {
     "name": "stderr",
     "output_type": "stream",
     "text": [
      "2,228,360 variants to be matched.\n",
      "\n",
      "0 ambiguous SNPs have been removed.\n",
      "\n",
      "77,938 variants have been matched; 0 were flipped and 0 were reversed.\n",
      "\n",
      "2,396,154 variants to be matched.\n",
      "\n",
      "0 ambiguous SNPs have been removed.\n",
      "\n",
      "83,671 variants have been matched; 0 were flipped and 0 were reversed.\n",
      "\n",
      "2,000,410 variants to be matched.\n",
      "\n",
      "0 ambiguous SNPs have been removed.\n",
      "\n",
      "70,872 variants have been matched; 0 were flipped and 0 were reversed.\n",
      "\n",
      "2,019,285 variants to be matched.\n",
      "\n",
      "0 ambiguous SNPs have been removed.\n",
      "\n",
      "62,979 variants have been matched; 0 were flipped and 0 were reversed.\n",
      "\n",
      "1,826,692 variants to be matched.\n",
      "\n",
      "0 ambiguous SNPs have been removed.\n",
      "\n",
      "62,988 variants have been matched; 0 were flipped and 0 were reversed.\n",
      "\n",
      "1,797,783 variants to be matched.\n",
      "\n",
      "0 ambiguous SNPs have been removed.\n",
      "\n",
      "69,268 variants have been matched; 0 were flipped and 0 were reversed.\n",
      "\n",
      "1,648,680 variants to be matched.\n",
      "\n",
      "0 ambiguous SNPs have been removed.\n",
      "\n",
      "54,374 variants have been matched; 0 were flipped and 0 were reversed.\n",
      "\n",
      "1,573,222 variants to be matched.\n",
      "\n",
      "0 ambiguous SNPs have been removed.\n",
      "\n",
      "55,193 variants have been matched; 0 were flipped and 0 were reversed.\n",
      "\n",
      "1,223,057 variants to be matched.\n",
      "\n",
      "0 ambiguous SNPs have been removed.\n",
      "\n",
      "44,324 variants have been matched; 0 were flipped and 0 were reversed.\n",
      "\n",
      "1,401,183 variants to be matched.\n",
      "\n",
      "0 ambiguous SNPs have been removed.\n",
      "\n",
      "52,683 variants have been matched; 0 were flipped and 0 were reversed.\n",
      "\n",
      "1,385,695 variants to be matched.\n",
      "\n",
      "0 ambiguous SNPs have been removed.\n",
      "\n",
      "50,302 variants have been matched; 0 were flipped and 0 were reversed.\n",
      "\n",
      "1,342,563 variants to be matched.\n",
      "\n",
      "0 ambiguous SNPs have been removed.\n",
      "\n",
      "48,842 variants have been matched; 0 were flipped and 0 were reversed.\n",
      "\n",
      "1,006,831 variants to be matched.\n",
      "\n",
      "0 ambiguous SNPs have been removed.\n",
      "\n",
      "37,711 variants have been matched; 0 were flipped and 0 were reversed.\n",
      "\n",
      "921,500 variants to be matched.\n",
      "\n",
      "0 ambiguous SNPs have been removed.\n",
      "\n",
      "32,120 variants have been matched; 0 were flipped and 0 were reversed.\n",
      "\n",
      "835,105 variants to be matched.\n",
      "\n",
      "0 ambiguous SNPs have been removed.\n",
      "\n",
      "27,502 variants have been matched; 0 were flipped and 0 were reversed.\n",
      "\n",
      "910,161 variants to be matched.\n",
      "\n",
      "0 ambiguous SNPs have been removed.\n",
      "\n",
      "27,825 variants have been matched; 0 were flipped and 0 were reversed.\n",
      "\n",
      "797,405 variants to be matched.\n",
      "\n",
      "0 ambiguous SNPs have been removed.\n",
      "\n",
      "23,329 variants have been matched; 0 were flipped and 0 were reversed.\n",
      "\n",
      "794,626 variants to be matched.\n",
      "\n",
      "0 ambiguous SNPs have been removed.\n",
      "\n",
      "29,138 variants have been matched; 0 were flipped and 0 were reversed.\n",
      "\n",
      "655,496 variants to be matched.\n",
      "\n",
      "0 ambiguous SNPs have been removed.\n",
      "\n",
      "16,758 variants have been matched; 0 were flipped and 0 were reversed.\n",
      "\n",
      "624,573 variants to be matched.\n",
      "\n",
      "0 ambiguous SNPs have been removed.\n",
      "\n",
      "24,773 variants have been matched; 0 were flipped and 0 were reversed.\n",
      "\n",
      "388,912 variants to be matched.\n",
      "\n",
      "0 ambiguous SNPs have been removed.\n",
      "\n",
      "12,882 variants have been matched; 0 were flipped and 0 were reversed.\n",
      "\n"
     ]
    }
   ],
   "source": [
    "# Get maximum amount of cores\n",
    "NCORES <- nb_cores()\n",
    "\n",
    "# Define temporary directory/files for genetic maps and correlation matrix \n",
    "tmp <- \"../../Data/temporary/tmp-data/corr\" \n",
    "tmpGenomesPos <- \"../../Data/temporary/tmp-genomes-position\" \n",
    "\n",
    "# Initialize variables for storing the LD score and LD matrix\n",
    "corr <- NULL\n",
    "ld <- NULL\n",
    "# We want to know the ordering of samples in the bed file \n",
    "info_snp <- NULL\n",
    "fam.order <- NULL\n",
    "\n",
    "for (chr in 1:21){ # <-- Ends at 21 as chrom 22 (HapMap3+) SNPs did not pass QC\n",
    "    # preprocess the bed file (only need to do once for each data set)\n",
    "    snp_readBed(paste0(fullPath, chr, \".bed\")) \n",
    "    \n",
    "    # now attach the genotype object\n",
    "    obj.bigSNP <- snp_attach(paste0(fullPath, chr, \".rds\"))\n",
    "    \n",
    "    # extract the SNP information from the genotype\n",
    "    map <- obj.bigSNP$map[-3]\n",
    "    names(map) <- c(\"chr\", \"rsid\", \"pos\", \"a0\", \"a1\") #opposite classic implementation - as grievous process sets ALT allele to reference \n",
    "    map$chr <- as.character(map$chr)\n",
    "    \n",
    "    # perform SNP matching\n",
    "    tmp_snp <- snp_match(sumstats[sumstats$chr==chr,], map)\n",
    "    info_snp <- rbind(info_snp, tmp_snp)\n",
    "    \n",
    "    # Assign the genotype to a variable for easier downstream analysis\n",
    "    genotype <- obj.bigSNP$genotypes\n",
    "    \n",
    "    # Rename the data structures\n",
    "    CHR <- as.integer(map$chr)\n",
    "    POS <- map$pos\n",
    "    \n",
    "    # get genetic maps and convert; downloads genetic maps available from 1000G to defined tmpGenomesPos\n",
    "    POS2 <- snp_asGeneticPos(CHR, POS, dir = tmpGenomesPos)# <-- uses genetic maps to interpolate physical positions (bp) to genetic positions (in cM)\n",
    "    \n",
    "    # Extract SNPs that are included in the chromosome\n",
    "    ind.chr <- which(tmp_snp$chr == chr)\n",
    "    ind.chr2 <- tmp_snp$`_NUM_ID_`[ind.chr]\n",
    "    \n",
    "    # calculate LD matrices \n",
    "    corr0 <- snp_cor(genotype, ind.col = ind.chr2, ncores = NCORES, infos.pos = POS2[ind.chr2], size = 3 / 1000) #<-- use paper recommended window size of 3 cM.\n",
    "    \n",
    "    if (chr == 1) {\n",
    "        ld <- Matrix::colSums(corr0^2)\n",
    "        corr <- as_SFBM(corr0, tmp)\n",
    "    } \n",
    "    else {\n",
    "        ld <- c(ld, Matrix::colSums(corr0^2))\n",
    "        corr$add_columns(corr0, nrow(corr))\n",
    "    }\n",
    "}"
   ]
  },
  {
   "cell_type": "markdown",
   "metadata": {},
   "source": [
    "Ensure no NA values in `ld` and confirm number of variants:"
   ]
  },
  {
   "cell_type": "code",
   "execution_count": 11,
   "metadata": {},
   "outputs": [
    {
     "data": {
      "text/html": [
       "0"
      ],
      "text/latex": [
       "0"
      ],
      "text/markdown": [
       "0"
      ],
      "text/plain": [
       "[1] 0"
      ]
     },
     "metadata": {},
     "output_type": "display_data"
    },
    {
     "data": {
      "text/html": [
       "965472"
      ],
      "text/latex": [
       "965472"
      ],
      "text/markdown": [
       "965472"
      ],
      "text/plain": [
       "[1] 965472"
      ]
     },
     "metadata": {},
     "output_type": "display_data"
    },
    {
     "data": {
      "text/html": [
       "<style>\n",
       ".list-inline {list-style: none; margin:0; padding: 0}\n",
       ".list-inline>li {display: inline-block}\n",
       ".list-inline>li:not(:last-child)::after {content: \"\\00b7\"; padding: 0 .5ex}\n",
       "</style>\n",
       "<ol class=list-inline><li>965472</li><li>965472</li></ol>\n"
      ],
      "text/latex": [
       "\\begin{enumerate*}\n",
       "\\item 965472\n",
       "\\item 965472\n",
       "\\end{enumerate*}\n"
      ],
      "text/markdown": [
       "1. 965472\n",
       "2. 965472\n",
       "\n",
       "\n"
      ],
      "text/plain": [
       "[1] 965472 965472"
      ]
     },
     "metadata": {},
     "output_type": "display_data"
    }
   ],
   "source": [
    "sum(is.na(ld))\n",
    "length(ld)\n",
    "dim(corr)"
   ]
  },
  {
   "cell_type": "markdown",
   "metadata": {},
   "source": [
    "Calculate heritability estimate (LD score regression):"
   ]
  },
  {
   "cell_type": "code",
   "execution_count": 12,
   "metadata": {},
   "outputs": [
    {
     "data": {
      "text/html": [
       "0.12855338778054"
      ],
      "text/latex": [
       "0.12855338778054"
      ],
      "text/markdown": [
       "0.12855338778054"
      ],
      "text/plain": [
       "[1] 0.1285534"
      ]
     },
     "metadata": {},
     "output_type": "display_data"
    }
   ],
   "source": [
    "df_beta <- info_snp[,c(\"beta\", \"beta_se\", \"N\", \"_NUM_ID_\")]\n",
    "ldsc <- snp_ldsc(ld, length(ld), chi2 = (df_beta$beta / df_beta$beta_se)^2, sample_size = df_beta$N, blocks = NULL)\n",
    "h2_est <- ldsc[[\"h2\"]]\n",
    "h2_est"
   ]
  },
  {
   "cell_type": "markdown",
   "metadata": {},
   "source": [
    "Load train, val, and test genotypes and ensure no misalignment with `info_snp`:"
   ]
  },
  {
   "cell_type": "code",
   "execution_count": 14,
   "metadata": {},
   "outputs": [
    {
     "name": "stdout",
     "output_type": "stream",
     "text": [
      "[1] \"Beginning Train\"\n"
     ]
    },
    {
     "name": "stderr",
     "output_type": "stream",
     "text": [
      "2,228,360 variants to be matched.\n",
      "\n",
      "0 ambiguous SNPs have been removed.\n",
      "\n",
      "77,938 variants have been matched; 0 were flipped and 0 were reversed.\n",
      "\n",
      "2,396,154 variants to be matched.\n",
      "\n",
      "0 ambiguous SNPs have been removed.\n",
      "\n",
      "83,671 variants have been matched; 0 were flipped and 0 were reversed.\n",
      "\n",
      "2,000,410 variants to be matched.\n",
      "\n",
      "0 ambiguous SNPs have been removed.\n",
      "\n",
      "70,872 variants have been matched; 0 were flipped and 0 were reversed.\n",
      "\n",
      "2,019,285 variants to be matched.\n",
      "\n",
      "0 ambiguous SNPs have been removed.\n",
      "\n",
      "62,979 variants have been matched; 0 were flipped and 0 were reversed.\n",
      "\n",
      "1,826,692 variants to be matched.\n",
      "\n",
      "0 ambiguous SNPs have been removed.\n",
      "\n",
      "62,988 variants have been matched; 0 were flipped and 0 were reversed.\n",
      "\n",
      "1,797,783 variants to be matched.\n",
      "\n",
      "0 ambiguous SNPs have been removed.\n",
      "\n",
      "69,268 variants have been matched; 0 were flipped and 0 were reversed.\n",
      "\n",
      "1,648,680 variants to be matched.\n",
      "\n",
      "0 ambiguous SNPs have been removed.\n",
      "\n",
      "54,374 variants have been matched; 0 were flipped and 0 were reversed.\n",
      "\n",
      "1,573,222 variants to be matched.\n",
      "\n",
      "0 ambiguous SNPs have been removed.\n",
      "\n",
      "55,193 variants have been matched; 0 were flipped and 0 were reversed.\n",
      "\n",
      "1,223,057 variants to be matched.\n",
      "\n",
      "0 ambiguous SNPs have been removed.\n",
      "\n",
      "44,324 variants have been matched; 0 were flipped and 0 were reversed.\n",
      "\n",
      "1,401,183 variants to be matched.\n",
      "\n",
      "0 ambiguous SNPs have been removed.\n",
      "\n",
      "52,683 variants have been matched; 0 were flipped and 0 were reversed.\n",
      "\n",
      "1,385,695 variants to be matched.\n",
      "\n",
      "0 ambiguous SNPs have been removed.\n",
      "\n",
      "50,302 variants have been matched; 0 were flipped and 0 were reversed.\n",
      "\n",
      "1,342,563 variants to be matched.\n",
      "\n",
      "0 ambiguous SNPs have been removed.\n",
      "\n",
      "48,842 variants have been matched; 0 were flipped and 0 were reversed.\n",
      "\n",
      "1,006,831 variants to be matched.\n",
      "\n",
      "0 ambiguous SNPs have been removed.\n",
      "\n",
      "37,711 variants have been matched; 0 were flipped and 0 were reversed.\n",
      "\n",
      "921,500 variants to be matched.\n",
      "\n",
      "0 ambiguous SNPs have been removed.\n",
      "\n",
      "32,120 variants have been matched; 0 were flipped and 0 were reversed.\n",
      "\n",
      "835,105 variants to be matched.\n",
      "\n",
      "0 ambiguous SNPs have been removed.\n",
      "\n",
      "27,502 variants have been matched; 0 were flipped and 0 were reversed.\n",
      "\n",
      "910,161 variants to be matched.\n",
      "\n",
      "0 ambiguous SNPs have been removed.\n",
      "\n",
      "27,825 variants have been matched; 0 were flipped and 0 were reversed.\n",
      "\n",
      "797,405 variants to be matched.\n",
      "\n",
      "0 ambiguous SNPs have been removed.\n",
      "\n",
      "23,329 variants have been matched; 0 were flipped and 0 were reversed.\n",
      "\n",
      "794,626 variants to be matched.\n",
      "\n",
      "0 ambiguous SNPs have been removed.\n",
      "\n",
      "29,138 variants have been matched; 0 were flipped and 0 were reversed.\n",
      "\n",
      "655,496 variants to be matched.\n",
      "\n",
      "0 ambiguous SNPs have been removed.\n",
      "\n",
      "16,758 variants have been matched; 0 were flipped and 0 were reversed.\n",
      "\n",
      "624,573 variants to be matched.\n",
      "\n",
      "0 ambiguous SNPs have been removed.\n",
      "\n",
      "24,773 variants have been matched; 0 were flipped and 0 were reversed.\n",
      "\n",
      "388,912 variants to be matched.\n",
      "\n",
      "0 ambiguous SNPs have been removed.\n",
      "\n",
      "12,882 variants have been matched; 0 were flipped and 0 were reversed.\n",
      "\n"
     ]
    },
    {
     "name": "stdout",
     "output_type": "stream",
     "text": [
      "[1] \"Completed Train; STATUS: TRUE\"\n",
      "[1] \"Beginning Val\"\n"
     ]
    },
    {
     "name": "stderr",
     "output_type": "stream",
     "text": [
      "2,228,360 variants to be matched.\n",
      "\n",
      "0 ambiguous SNPs have been removed.\n",
      "\n",
      "77,938 variants have been matched; 0 were flipped and 0 were reversed.\n",
      "\n",
      "2,396,154 variants to be matched.\n",
      "\n",
      "0 ambiguous SNPs have been removed.\n",
      "\n",
      "83,671 variants have been matched; 0 were flipped and 0 were reversed.\n",
      "\n",
      "2,000,410 variants to be matched.\n",
      "\n",
      "0 ambiguous SNPs have been removed.\n",
      "\n",
      "70,872 variants have been matched; 0 were flipped and 0 were reversed.\n",
      "\n",
      "2,019,285 variants to be matched.\n",
      "\n",
      "0 ambiguous SNPs have been removed.\n",
      "\n",
      "62,979 variants have been matched; 0 were flipped and 0 were reversed.\n",
      "\n",
      "1,826,692 variants to be matched.\n",
      "\n",
      "0 ambiguous SNPs have been removed.\n",
      "\n",
      "62,988 variants have been matched; 0 were flipped and 0 were reversed.\n",
      "\n",
      "1,797,783 variants to be matched.\n",
      "\n",
      "0 ambiguous SNPs have been removed.\n",
      "\n",
      "69,268 variants have been matched; 0 were flipped and 0 were reversed.\n",
      "\n",
      "1,648,680 variants to be matched.\n",
      "\n",
      "0 ambiguous SNPs have been removed.\n",
      "\n",
      "54,374 variants have been matched; 0 were flipped and 0 were reversed.\n",
      "\n",
      "1,573,222 variants to be matched.\n",
      "\n",
      "0 ambiguous SNPs have been removed.\n",
      "\n",
      "55,193 variants have been matched; 0 were flipped and 0 were reversed.\n",
      "\n",
      "1,223,057 variants to be matched.\n",
      "\n",
      "0 ambiguous SNPs have been removed.\n",
      "\n",
      "44,324 variants have been matched; 0 were flipped and 0 were reversed.\n",
      "\n",
      "1,401,183 variants to be matched.\n",
      "\n",
      "0 ambiguous SNPs have been removed.\n",
      "\n",
      "52,683 variants have been matched; 0 were flipped and 0 were reversed.\n",
      "\n",
      "1,385,695 variants to be matched.\n",
      "\n",
      "0 ambiguous SNPs have been removed.\n",
      "\n",
      "50,302 variants have been matched; 0 were flipped and 0 were reversed.\n",
      "\n",
      "1,342,563 variants to be matched.\n",
      "\n",
      "0 ambiguous SNPs have been removed.\n",
      "\n",
      "48,842 variants have been matched; 0 were flipped and 0 were reversed.\n",
      "\n",
      "1,006,831 variants to be matched.\n",
      "\n",
      "0 ambiguous SNPs have been removed.\n",
      "\n",
      "37,711 variants have been matched; 0 were flipped and 0 were reversed.\n",
      "\n",
      "921,500 variants to be matched.\n",
      "\n",
      "0 ambiguous SNPs have been removed.\n",
      "\n",
      "32,120 variants have been matched; 0 were flipped and 0 were reversed.\n",
      "\n",
      "835,105 variants to be matched.\n",
      "\n",
      "0 ambiguous SNPs have been removed.\n",
      "\n",
      "27,502 variants have been matched; 0 were flipped and 0 were reversed.\n",
      "\n",
      "910,161 variants to be matched.\n",
      "\n",
      "0 ambiguous SNPs have been removed.\n",
      "\n",
      "27,825 variants have been matched; 0 were flipped and 0 were reversed.\n",
      "\n",
      "797,405 variants to be matched.\n",
      "\n",
      "0 ambiguous SNPs have been removed.\n",
      "\n",
      "23,329 variants have been matched; 0 were flipped and 0 were reversed.\n",
      "\n",
      "794,626 variants to be matched.\n",
      "\n",
      "0 ambiguous SNPs have been removed.\n",
      "\n",
      "29,138 variants have been matched; 0 were flipped and 0 were reversed.\n",
      "\n",
      "655,496 variants to be matched.\n",
      "\n",
      "0 ambiguous SNPs have been removed.\n",
      "\n",
      "16,758 variants have been matched; 0 were flipped and 0 were reversed.\n",
      "\n",
      "624,573 variants to be matched.\n",
      "\n",
      "0 ambiguous SNPs have been removed.\n",
      "\n",
      "24,773 variants have been matched; 0 were flipped and 0 were reversed.\n",
      "\n",
      "388,912 variants to be matched.\n",
      "\n",
      "0 ambiguous SNPs have been removed.\n",
      "\n",
      "12,882 variants have been matched; 0 were flipped and 0 were reversed.\n",
      "\n"
     ]
    },
    {
     "name": "stdout",
     "output_type": "stream",
     "text": [
      "[1] \"Completed Val; STATUS: TRUE\"\n",
      "[1] \"Beginning Test\"\n"
     ]
    },
    {
     "name": "stderr",
     "output_type": "stream",
     "text": [
      "2,228,360 variants to be matched.\n",
      "\n",
      "0 ambiguous SNPs have been removed.\n",
      "\n",
      "77,938 variants have been matched; 0 were flipped and 0 were reversed.\n",
      "\n",
      "2,396,154 variants to be matched.\n",
      "\n",
      "0 ambiguous SNPs have been removed.\n",
      "\n",
      "83,671 variants have been matched; 0 were flipped and 0 were reversed.\n",
      "\n",
      "2,000,410 variants to be matched.\n",
      "\n",
      "0 ambiguous SNPs have been removed.\n",
      "\n",
      "70,872 variants have been matched; 0 were flipped and 0 were reversed.\n",
      "\n",
      "2,019,285 variants to be matched.\n",
      "\n",
      "0 ambiguous SNPs have been removed.\n",
      "\n",
      "62,979 variants have been matched; 0 were flipped and 0 were reversed.\n",
      "\n",
      "1,826,692 variants to be matched.\n",
      "\n",
      "0 ambiguous SNPs have been removed.\n",
      "\n",
      "62,988 variants have been matched; 0 were flipped and 0 were reversed.\n",
      "\n",
      "1,797,783 variants to be matched.\n",
      "\n",
      "0 ambiguous SNPs have been removed.\n",
      "\n",
      "69,268 variants have been matched; 0 were flipped and 0 were reversed.\n",
      "\n",
      "1,648,680 variants to be matched.\n",
      "\n",
      "0 ambiguous SNPs have been removed.\n",
      "\n",
      "54,374 variants have been matched; 0 were flipped and 0 were reversed.\n",
      "\n",
      "1,573,222 variants to be matched.\n",
      "\n",
      "0 ambiguous SNPs have been removed.\n",
      "\n",
      "55,193 variants have been matched; 0 were flipped and 0 were reversed.\n",
      "\n",
      "1,223,057 variants to be matched.\n",
      "\n",
      "0 ambiguous SNPs have been removed.\n",
      "\n",
      "44,324 variants have been matched; 0 were flipped and 0 were reversed.\n",
      "\n",
      "1,401,183 variants to be matched.\n",
      "\n",
      "0 ambiguous SNPs have been removed.\n",
      "\n",
      "52,683 variants have been matched; 0 were flipped and 0 were reversed.\n",
      "\n",
      "1,385,695 variants to be matched.\n",
      "\n",
      "0 ambiguous SNPs have been removed.\n",
      "\n",
      "50,302 variants have been matched; 0 were flipped and 0 were reversed.\n",
      "\n",
      "1,342,563 variants to be matched.\n",
      "\n",
      "0 ambiguous SNPs have been removed.\n",
      "\n",
      "48,842 variants have been matched; 0 were flipped and 0 were reversed.\n",
      "\n",
      "1,006,831 variants to be matched.\n",
      "\n",
      "0 ambiguous SNPs have been removed.\n",
      "\n",
      "37,711 variants have been matched; 0 were flipped and 0 were reversed.\n",
      "\n",
      "921,500 variants to be matched.\n",
      "\n",
      "0 ambiguous SNPs have been removed.\n",
      "\n",
      "32,120 variants have been matched; 0 were flipped and 0 were reversed.\n",
      "\n",
      "835,105 variants to be matched.\n",
      "\n",
      "0 ambiguous SNPs have been removed.\n",
      "\n",
      "27,502 variants have been matched; 0 were flipped and 0 were reversed.\n",
      "\n",
      "910,161 variants to be matched.\n",
      "\n",
      "0 ambiguous SNPs have been removed.\n",
      "\n",
      "27,825 variants have been matched; 0 were flipped and 0 were reversed.\n",
      "\n",
      "797,405 variants to be matched.\n",
      "\n",
      "0 ambiguous SNPs have been removed.\n",
      "\n",
      "23,329 variants have been matched; 0 were flipped and 0 were reversed.\n",
      "\n",
      "794,626 variants to be matched.\n",
      "\n",
      "0 ambiguous SNPs have been removed.\n",
      "\n",
      "29,138 variants have been matched; 0 were flipped and 0 were reversed.\n",
      "\n",
      "655,496 variants to be matched.\n",
      "\n",
      "0 ambiguous SNPs have been removed.\n",
      "\n",
      "16,758 variants have been matched; 0 were flipped and 0 were reversed.\n",
      "\n",
      "624,573 variants to be matched.\n",
      "\n",
      "0 ambiguous SNPs have been removed.\n",
      "\n",
      "24,773 variants have been matched; 0 were flipped and 0 were reversed.\n",
      "\n",
      "388,912 variants to be matched.\n",
      "\n",
      "0 ambiguous SNPs have been removed.\n",
      "\n",
      "12,882 variants have been matched; 0 were flipped and 0 were reversed.\n",
      "\n"
     ]
    },
    {
     "name": "stdout",
     "output_type": "stream",
     "text": [
      "[1] \"Completed Test; STATUS: TRUE\"\n"
     ]
    }
   ],
   "source": [
    "#Convert files to expected format:''\n",
    "genotypeDirs = c(\"../../Data/LDpred2/PC/ELLIPSE_Reference_Panel/Train/\",\n",
    "                 \"../../Data/LDpred2/PC/ELLIPSE_Reference_Panel/Val/\",\n",
    "                 \"../../Data/LDpred2/PC/ELLIPSE_Reference_Panel/Test/\")\n",
    "\n",
    "for (datasetPath in genotypeDirs){\n",
    "    print(paste0(\"Beginning \", tail(strsplit(datasetPath, split = \"/\")[[1]], 1)))\n",
    "    datasetSpecific <- NULL\n",
    "    for (chr in 1:21) { #<-- again only 21 as no 22 QC passed SNPs\n",
    "        # preprocess the bed file (only need to do once for each data set)\n",
    "        snp_readBed(paste0(datasetPath, \"chr\", chr, \".bed\")) \n",
    "    \n",
    "        # now attach the genotype object\n",
    "        rSnpObject <- snp_attach(paste0(datasetPath, \"chr\", chr, \".rds\"))\n",
    "        \n",
    "        # extract the SNP information from the genotype\n",
    "        map <- rSnpObject$map[-3]\n",
    "        names(map) <- c(\"chr\", \"rsid\", \"pos\", \"a0\", \"a1\") #opposite classic implementation - as grievous process sets ALT allele to reference \n",
    "        map$chr <- as.character(map$chr)\n",
    "        \n",
    "        # perform SNP matching\n",
    "        tmp_snp <- snp_match(sumstats[sumstats$chr==chr,], map)\n",
    "        datasetSpecific <- rbind(datasetSpecific, tmp_snp)\n",
    "    }\n",
    "    \n",
    "    print(paste0(\"Completed \", tail(strsplit(datasetPath, split = \"/\")[[1]], 1), \"; STATUS: \", all(datasetSpecific == info_snp)))\n",
    "}"
   ]
  },
  {
   "cell_type": "markdown",
   "metadata": {},
   "source": [
    "**Initialize and run LDpred2-auto:**"
   ]
  },
  {
   "cell_type": "code",
   "execution_count": 16,
   "metadata": {},
   "outputs": [],
   "source": [
    "names(df_beta) <- c(\"beta\", \"beta_se\", \"n_eff\", \"_NUM_ID_\")"
   ]
  },
  {
   "cell_type": "code",
   "execution_count": 17,
   "metadata": {},
   "outputs": [],
   "source": [
    "coef_shrink = 0.95 # <-- Initialize robust LDpred2-auto shrinkage coefficient to paper reported/tutorial value (0.95)\n",
    "\n",
    "#set.seed(3)  # <-- uncomment to get the same result every time\n",
    "\n",
    "multi_auto <- snp_ldpred2_auto(\n",
    "    corr,\n",
    "    df_beta,\n",
    "    h2_init = h2_est,\n",
    "    vec_p_init = seq_log(1e-4, 0.2, length.out = 30),\n",
    "    ncores = NCORES, allow_jump_sign = FALSE, \n",
    "    use_MLE = FALSE,\n",
    "    shrink_corr = coef_shrink\n",
    ")"
   ]
  },
  {
   "cell_type": "markdown",
   "metadata": {},
   "source": [
    "Filter out bad chains (according to recommended LDpred2 tutorial procedure):"
   ]
  },
  {
   "cell_type": "code",
   "execution_count": 18,
   "metadata": {},
   "outputs": [
    {
     "data": {
      "text/html": [
       "<style>\n",
       ".list-inline {list-style: none; margin:0; padding: 0}\n",
       ".list-inline>li {display: inline-block}\n",
       ".list-inline>li:not(:last-child)::after {content: \"\\00b7\"; padding: 0 .5ex}\n",
       "</style>\n",
       "<ol class=list-inline><li>0.0600941846589337</li><li>0.0597174388396087</li><li>0.0596377049484484</li><li>0.0598670312172447</li><li>0.0592871091158337</li><li>0.0530141174534782</li><li>0.0531545950894668</li><li>0.0595873294708346</li><li>0.0591947674427961</li><li>0.0557902665386049</li><li>0.05740739550699</li><li>0.0547884484932792</li><li>0.0516402044067668</li><li>0.0523501063897605</li><li>0.0595801283161189</li><li>0.0582827655382207</li><li>0.0592175627745155</li><li>0.0557423353874426</li><li>0.0535823129127819</li><li>0.0549854738178454</li><li>0.053596608691071</li><li>0.0592687754013663</li><li>0.0554510441767986</li><li>0.059183333497425</li><li>0.0599958091691026</li><li>0.0557527576983293</li><li>0.058244979209892</li><li>0.0510806349254563</li><li>0.0643070829899454</li><li>0.0601148317385455</li></ol>\n"
      ],
      "text/latex": [
       "\\begin{enumerate*}\n",
       "\\item 0.0600941846589337\n",
       "\\item 0.0597174388396087\n",
       "\\item 0.0596377049484484\n",
       "\\item 0.0598670312172447\n",
       "\\item 0.0592871091158337\n",
       "\\item 0.0530141174534782\n",
       "\\item 0.0531545950894668\n",
       "\\item 0.0595873294708346\n",
       "\\item 0.0591947674427961\n",
       "\\item 0.0557902665386049\n",
       "\\item 0.05740739550699\n",
       "\\item 0.0547884484932792\n",
       "\\item 0.0516402044067668\n",
       "\\item 0.0523501063897605\n",
       "\\item 0.0595801283161189\n",
       "\\item 0.0582827655382207\n",
       "\\item 0.0592175627745155\n",
       "\\item 0.0557423353874426\n",
       "\\item 0.0535823129127819\n",
       "\\item 0.0549854738178454\n",
       "\\item 0.053596608691071\n",
       "\\item 0.0592687754013663\n",
       "\\item 0.0554510441767986\n",
       "\\item 0.059183333497425\n",
       "\\item 0.0599958091691026\n",
       "\\item 0.0557527576983293\n",
       "\\item 0.058244979209892\n",
       "\\item 0.0510806349254563\n",
       "\\item 0.0643070829899454\n",
       "\\item 0.0601148317385455\n",
       "\\end{enumerate*}\n"
      ],
      "text/markdown": [
       "1. 0.0600941846589337\n",
       "2. 0.0597174388396087\n",
       "3. 0.0596377049484484\n",
       "4. 0.0598670312172447\n",
       "5. 0.0592871091158337\n",
       "6. 0.0530141174534782\n",
       "7. 0.0531545950894668\n",
       "8. 0.0595873294708346\n",
       "9. 0.0591947674427961\n",
       "10. 0.0557902665386049\n",
       "11. 0.05740739550699\n",
       "12. 0.0547884484932792\n",
       "13. 0.0516402044067668\n",
       "14. 0.0523501063897605\n",
       "15. 0.0595801283161189\n",
       "16. 0.0582827655382207\n",
       "17. 0.0592175627745155\n",
       "18. 0.0557423353874426\n",
       "19. 0.0535823129127819\n",
       "20. 0.0549854738178454\n",
       "21. 0.053596608691071\n",
       "22. 0.0592687754013663\n",
       "23. 0.0554510441767986\n",
       "24. 0.059183333497425\n",
       "25. 0.0599958091691026\n",
       "26. 0.0557527576983293\n",
       "27. 0.058244979209892\n",
       "28. 0.0510806349254563\n",
       "29. 0.0643070829899454\n",
       "30. 0.0601148317385455\n",
       "\n",
       "\n"
      ],
      "text/plain": [
       " [1] 0.06009418 0.05971744 0.05963770 0.05986703 0.05928711 0.05301412\n",
       " [7] 0.05315460 0.05958733 0.05919477 0.05579027 0.05740740 0.05478845\n",
       "[13] 0.05164020 0.05235011 0.05958013 0.05828277 0.05921756 0.05574234\n",
       "[19] 0.05358231 0.05498547 0.05359661 0.05926878 0.05545104 0.05918333\n",
       "[25] 0.05999581 0.05575276 0.05824498 0.05108063 0.06430708 0.06011483"
      ]
     },
     "metadata": {},
     "output_type": "display_data"
    }
   ],
   "source": [
    "(range <- sapply(multi_auto, function(auto) diff(range(auto$corr_est)))) #<-- range should be between 0 and 2"
   ]
  },
  {
   "cell_type": "code",
   "execution_count": 19,
   "metadata": {},
   "outputs": [
    {
     "data": {
      "text/html": [
       "<style>\n",
       ".list-inline {list-style: none; margin:0; padding: 0}\n",
       ".list-inline>li {display: inline-block}\n",
       ".list-inline>li:not(:last-child)::after {content: \"\\00b7\"; padding: 0 .5ex}\n",
       "</style>\n",
       "<ol class=list-inline><li>1</li><li>2</li><li>3</li><li>4</li><li>5</li><li>8</li><li>9</li><li>11</li><li>15</li><li>16</li><li>17</li><li>22</li><li>24</li><li>25</li><li>27</li><li>29</li><li>30</li></ol>\n"
      ],
      "text/latex": [
       "\\begin{enumerate*}\n",
       "\\item 1\n",
       "\\item 2\n",
       "\\item 3\n",
       "\\item 4\n",
       "\\item 5\n",
       "\\item 8\n",
       "\\item 9\n",
       "\\item 11\n",
       "\\item 15\n",
       "\\item 16\n",
       "\\item 17\n",
       "\\item 22\n",
       "\\item 24\n",
       "\\item 25\n",
       "\\item 27\n",
       "\\item 29\n",
       "\\item 30\n",
       "\\end{enumerate*}\n"
      ],
      "text/markdown": [
       "1. 1\n",
       "2. 2\n",
       "3. 3\n",
       "4. 4\n",
       "5. 5\n",
       "6. 8\n",
       "7. 9\n",
       "8. 11\n",
       "9. 15\n",
       "10. 16\n",
       "11. 17\n",
       "12. 22\n",
       "13. 24\n",
       "14. 25\n",
       "15. 27\n",
       "16. 29\n",
       "17. 30\n",
       "\n",
       "\n"
      ],
      "text/plain": [
       " [1]  1  2  3  4  5  8  9 11 15 16 17 22 24 25 27 29 30"
      ]
     },
     "metadata": {},
     "output_type": "display_data"
    }
   ],
   "source": [
    "(keep <- which(range > (0.95 * quantile(range, 0.95, na.rm = TRUE))))"
   ]
  },
  {
   "cell_type": "markdown",
   "metadata": {},
   "source": [
    "Get final LDpred2-auto effects using chains that passed filtering: "
   ]
  },
  {
   "cell_type": "code",
   "execution_count": 20,
   "metadata": {},
   "outputs": [],
   "source": [
    "beta_auto <- rowMeans(sapply(multi_auto[keep], function(auto) auto$beta_est))"
   ]
  },
  {
   "cell_type": "markdown",
   "metadata": {},
   "source": [
    "Generate test set (UKBB) LDpred2-auto predictions:"
   ]
  },
  {
   "cell_type": "code",
   "execution_count": 21,
   "metadata": {},
   "outputs": [
    {
     "name": "stdout",
     "output_type": "stream",
     "text": [
      "[1] 1\n",
      "[1] 2\n",
      "[1] 3\n",
      "[1] 4\n",
      "[1] 5\n",
      "[1] 6\n",
      "[1] 7\n",
      "[1] 8\n",
      "[1] 9\n",
      "[1] 10\n",
      "[1] 11\n",
      "[1] 12\n",
      "[1] 13\n",
      "[1] 14\n",
      "[1] 15\n",
      "[1] 16\n",
      "[1] 17\n",
      "[1] 18\n",
      "[1] 19\n",
      "[1] 20\n",
      "[1] 21\n"
     ]
    }
   ],
   "source": [
    "testDir <- genotypeDirs[3]\n",
    "test_auto <- NULL\n",
    "\n",
    "for(chr in 1:21){\n",
    "    print(chr)\n",
    "    rSnpObject <- snp_attach(paste0(testDir, \"chr\", chr, \".rds\"))\n",
    "    genotypeWithNAs <- rSnpObject$genotypes\n",
    "    genotype <- snp_fastImputeSimple(genotypeWithNAs, method = \"mean2\", ncores = 8) #\n",
    "\n",
    "    #Calc PRS for all samples\n",
    "    ind.test <- 1:nrow(genotype) \n",
    "    \n",
    "    # Extract SNPs in this chromosome\n",
    "    chr.idx <- which(info_snp$chr == chr)\n",
    "    ind.chr <- info_snp$`_NUM_ID_`[chr.idx]\n",
    "    \n",
    "    tmp <- big_prodVec(genotype, \n",
    "                       beta_auto[chr.idx]) # chr.idx: the row elements of info_snp which are in order; Num_ID reset's the values which restart at each chromosome...\n",
    "\n",
    "    if(is.null(test_auto)){\n",
    "        test_auto <- tmp\n",
    "    }\n",
    "    \n",
    "    else{\n",
    "        test_auto <- test_auto + tmp\n",
    "    }\n",
    "   \n",
    "}"
   ]
  },
  {
   "cell_type": "markdown",
   "metadata": {},
   "source": [
    "Load in test set phenotype information to generate LDpred2-auto (comprehensive) prediction summary for performance evaluation:"
   ]
  },
  {
   "cell_type": "code",
   "execution_count": 23,
   "metadata": {},
   "outputs": [],
   "source": [
    "ukbbPhenoPath <- \"../../Data/PhenosAndIDs/PC/ukb.ellipse.pheno.tsv\"\n",
    "ukbbPheno <- read.table(ukbbPhenoPath)\n",
    "names(ukbbPheno) <- c(\"IID\", \"AGE\", \"SEX\", \"PHENOTYPE\",\"ANCESTRY\")\n",
    "ukbbPheno$PHENOTYPE <- ukbbPheno$PHENOTYPE - 1"
   ]
  },
  {
   "cell_type": "markdown",
   "metadata": {},
   "source": [
    "Ensure predictions for each individual align with observed phenotype:"
   ]
  },
  {
   "cell_type": "code",
   "execution_count": 24,
   "metadata": {},
   "outputs": [],
   "source": [
    "rSnpObject <- snp_attach(paste0(testDir, \"chr1.rds\"))\n",
    "testIDs <- rSnpObject$fam$sample.ID\n",
    "testPheno <- ukbbPheno[ukbbPheno$IID %in% testIDs,]\n",
    "testFamOrder <- match(testIDs, testPheno$IID)\n",
    "testPhenoOrdered <- testPheno[testFamOrder, ]"
   ]
  },
  {
   "cell_type": "code",
   "execution_count": 25,
   "metadata": {},
   "outputs": [],
   "source": [
    "testSetScores <- testPhenoOrdered[,c(\"IID\", \"PHENOTYPE\")]\n",
    "testSetScores <- data.frame(testSetScores, NewValue = test_auto)\n",
    "names(testSetScores) <- c(\"IID\", \"Labels\", \"Predictions\")\n",
    "testSetScores <- testSetScores[, c(1,3,2)]"
   ]
  },
  {
   "cell_type": "code",
   "execution_count": null,
   "metadata": {},
   "outputs": [],
   "source": [
    "#write.table(testSetScores, file = \"../../../Predictions/PC/LDpred2_auto/UKBB_Test_ELLIPSE_ALL_REF_Conti_SSF.tsv \", sep = \"\\t\", row.names = FALSE, quote = FALSE)"
   ]
  }
 ],
 "metadata": {
  "kernelspec": {
   "display_name": "BaRbossa",
   "language": "R",
   "name": "barbossa"
  },
  "language_info": {
   "codemirror_mode": "r",
   "file_extension": ".r",
   "mimetype": "text/x-r-source",
   "name": "R",
   "pygments_lexer": "r",
   "version": "4.3.3"
  }
 },
 "nbformat": 4,
 "nbformat_minor": 4
}
